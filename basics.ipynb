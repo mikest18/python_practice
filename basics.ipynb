{
  "nbformat": 4,
  "nbformat_minor": 0,
  "metadata": {
    "colab": {
      "provenance": [],
      "authorship_tag": "ABX9TyOhrTEONWwkF+pxpPe19W24"
    },
    "kernelspec": {
      "name": "python3",
      "display_name": "Python 3"
    },
    "language_info": {
      "name": "python"
    }
  },
  "cells": [
    {
      "cell_type": "code",
      "source": [
        "import numpy as np"
      ],
      "metadata": {
        "id": "MzoTEK19z3rB"
      },
      "execution_count": null,
      "outputs": []
    },
    {
      "cell_type": "code",
      "execution_count": null,
      "metadata": {
        "id": "L6lHNhLhZOew"
      },
      "outputs": [],
      "source": [
        "size = 1000\n",
        "x1 = np.random.uniform(-1000, 1000, size)\n",
        "x2 = np.random.uniform(-1000, 1000, size)"
      ]
    },
    {
      "cell_type": "code",
      "source": [
        "seq = [1, 2, 3, 4, 5]\n",
        "list(map(lambda num: num*2, seq))"
      ],
      "metadata": {
        "id": "fRjou3OkZbnJ",
        "colab": {
          "base_uri": "https://localhost:8080/"
        },
        "outputId": "34c14e1f-bc3d-4fcb-ce13-218b664495ae"
      },
      "execution_count": null,
      "outputs": [
        {
          "output_type": "execute_result",
          "data": {
            "text/plain": [
              "[2, 4, 6, 8, 10]"
            ]
          },
          "metadata": {},
          "execution_count": 1
        }
      ]
    },
    {
      "cell_type": "code",
      "source": [
        "list(filter(lambda num: num%2 == 0, seq))"
      ],
      "metadata": {
        "colab": {
          "base_uri": "https://localhost:8080/"
        },
        "id": "BSjqZx-lztsA",
        "outputId": "a152de90-b243-43b8-9a5e-abd6fe95c52b"
      },
      "execution_count": null,
      "outputs": [
        {
          "output_type": "execute_result",
          "data": {
            "text/plain": [
              "[2, 4]"
            ]
          },
          "metadata": {},
          "execution_count": 7
        }
      ]
    },
    {
      "cell_type": "code",
      "source": [
        "# count lower string in a long string \n",
        "s = 'Wow that is a nice price, very nice Price! I said price 3 times.'\n",
        "count_price = lambda str: str.lower().count('price')\n",
        "count_price(s)"
      ],
      "metadata": {
        "colab": {
          "base_uri": "https://localhost:8080/"
        },
        "id": "JKWTVrT-0QHu",
        "outputId": "0ac04b74-b5ee-4945-82c4-3c7cf8013599"
      },
      "execution_count": null,
      "outputs": [
        {
          "output_type": "execute_result",
          "data": {
            "text/plain": [
              "3"
            ]
          },
          "metadata": {},
          "execution_count": 8
        }
      ]
    },
    {
      "cell_type": "code",
      "source": [],
      "metadata": {
        "id": "kCp3ENlGFUF6"
      },
      "execution_count": null,
      "outputs": []
    }
  ]
}